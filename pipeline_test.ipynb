{
  "cells": [
    {
      "cell_type": "code",
      "execution_count": null,
      "metadata": {
        "id": "D7pFnhqxdKb2"
      },
      "outputs": [],
      "source": [
        "!pip install GraphClusterer"
      ]
    },
    {
      "cell_type": "code",
      "execution_count": null,
      "metadata": {
        "id": "9fMnh-3ddaRh"
      },
      "outputs": [],
      "source": [
        "from GraphClusterer.main import run_pipeline\n",
        "\"\"\"\n",
        "Remember to input your API keys manually. We provided a generic config.json file.\n",
        "To test other datasets, you need to provide the path to the vertices file (and optionally edges)\n",
        "in the latest version, a distance matrix is always calculated, and additional edges\n",
        "are not mandatory (you can leave the path to edges file empty).\n",
        "\"\"\"\n",
        "\n",
        "if __name__ == '__main__':\n",
        "\n",
        "    run_pipeline()"
      ]
    }
  ],
  "metadata": {
    "colab": {
      "provenance": []
    },
    "kernelspec": {
      "display_name": "Python 3",
      "name": "python3"
    },
    "language_info": {
      "name": "python"
    }
  },
  "nbformat": 4,
  "nbformat_minor": 0
}